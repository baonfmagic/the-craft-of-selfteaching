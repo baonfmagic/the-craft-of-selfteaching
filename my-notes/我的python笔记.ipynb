{
 "cells": [
  {
   "cell_type": "code",
   "execution_count": null,
   "id": "907e037b",
   "metadata": {},
   "outputs": [],
   "source": [
    "测试"
   ]
  }
 ],
 "metadata": {
  "kernelspec": {
   "display_name": "Python 3 (ipykernel)",
   "language": "python",
   "name": "python3"
  }
 },
 "nbformat": 4,
 "nbformat_minor": 5
}
