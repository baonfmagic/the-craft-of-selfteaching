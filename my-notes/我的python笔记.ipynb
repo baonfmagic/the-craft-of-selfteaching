{
 "cells": [
  {
   "cell_type": "markdown",
   "id": "f05631f4",
   "metadata": {},
   "source": [
    "# python 学习笔记"
   ]
  },
  {
   "cell_type": "markdown",
   "id": "d362323c",
   "metadata": {},
   "source": [
    "## 前言\n",
    "最近在研究Termux,在手机上部署了jupyter notebook，就想着继续学习一下python,于是就有了这个学习笔记。"
   ]
  },
  {
   "cell_type": "code",
   "execution_count": 1,
   "id": "0585153d",
   "metadata": {},
   "outputs": [
    {
     "name": "stdout",
     "output_type": "stream",
     "text": [
      "holle,python\n"
     ]
    }
   ],
   "source": [
    "# 国际惯例\n",
    "print('holle,python')"
   ]
  }
 ],
 "metadata": {
  "kernelspec": {
   "display_name": "Python 3 (ipykernel)",
   "language": "python",
   "name": "python3"
  },
  "language_info": {
   "codemirror_mode": {
    "name": "ipython",
    "version": 3
   },
   "file_extension": ".py",
   "mimetype": "text/x-python",
   "name": "python",
   "nbconvert_exporter": "python",
   "pygments_lexer": "ipython3",
   "version": "3.11.2"
  }
 },
 "nbformat": 4,
 "nbformat_minor": 5
}
